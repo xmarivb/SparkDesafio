{
  "nbformat": 4,
  "nbformat_minor": 0,
  "metadata": {
    "colab": {
      "name": "requisicoesNasa.ipynb",
      "version": "0.3.2",
      "provenance": []
    },
    "kernelspec": {
      "name": "python3",
      "display_name": "Python 3"
    }
  },
  "cells": [
    {
      "cell_type": "markdown",
      "metadata": {
        "id": "rEpMu9gxFPkt",
        "colab_type": "text"
      },
      "source": [
        "# Semantix Desafio Engenheiro de Dados\n",
        "\n",
        "## HTTP requests to the NASA Kennedy Space Center WWW server\n",
        "\n",
        "\n",
        "Fonte oficial do dateset: http://ita.ee.lbl.gov/html/contrib/NASA-HTTP.html  \n",
        "\n",
        "Dados:\n",
        "* Jul 01 to Jul 31, ASCII format, 20.7 MB gzip compressed, 205.2 MB (ftp://ita.ee.lbl.gov/traces/NASA_access_log_Jul95.gz).\n",
        "* Aug 04 to Aug 31, ASCII format, 21.8 MB gzip compressed, 167.8 MB (ftp://ita.ee.lbl.gov/traces/NASA_access_log_Aug95.gz).  \n",
        "\n",
        "Sobre o dataset: Esses dois conjuntos de dados possuem todas as requisições HTTP para o servidor da NASA Kennedy\n",
        "Space Center WWW na Flórida para um período específico.\n",
        "\n",
        "  \n",
        "  \n",
        "  Os logs estão em arquivos ASCII com uma linha por requisição com as seguintes colunas:\n",
        "* Host fazendo a requisição. Um hostname quando possível, caso contrário o endereço de internet se o nome\n",
        "não puder ser identificado.\n",
        "* Timestamp no formato \"DIA/MÊS/ANO:HH:MM:SS TIMEZONE\"\n",
        "* Requisição (entre aspas)\n",
        "* Código do retorno HTTP\n",
        "* Total de bytes retornados"
      ]
    },
    {
      "cell_type": "markdown",
      "metadata": {
        "id": "BLDaXmVQJNfZ",
        "colab_type": "text"
      },
      "source": [
        "### Introdução\n",
        "\n",
        "Para resolução deste desafio está sendo utilizado o Google Golab que permite rodar o Spark.  \n",
        "A linguagem utilizada será Python.\n",
        "\n",
        "\n",
        "### Preparando o ambiente e os dados\n",
        "\n",
        "Primeiro é feita a instalação do Java, do Spark com o Hadoop, do findSpark (utilizado para encontrar a instalação do Spark na máquina) e do PySpark (API de Spark em Python).  \n",
        "Segundo, são configuradas as variáveis de ambiente.  \n",
        "Terceiro é iniciado uma sessão do Spark."
      ]
    },
    {
      "cell_type": "code",
      "metadata": {
        "id": "esSXKeEeFHBN",
        "colab_type": "code",
        "colab": {
          "base_uri": "https://localhost:8080/",
          "height": 68
        },
        "outputId": "d53b49b0-bc24-4c4a-c59d-4baa157bebcc"
      },
      "source": [
        "!apt-get install openjdk-8-jdk-headless -qq > /dev/null\n",
        "!wget -q http://www-eu.apache.org/dist/spark/spark-2.4.3/spark-2.4.3-bin-hadoop2.7.tgz\n",
        "!tar xf spark-2.4.3-bin-hadoop2.7.tgz\n",
        "!pip install -q findspark\n",
        "!pip install -q pyspark"
      ],
      "execution_count": 1,
      "outputs": [
        {
          "output_type": "stream",
          "text": [
            "\u001b[K     |████████████████████████████████| 215.6MB 66kB/s \n",
            "\u001b[K     |████████████████████████████████| 204kB 39.1MB/s \n",
            "\u001b[?25h  Building wheel for pyspark (setup.py) ... \u001b[?25l\u001b[?25hdone\n"
          ],
          "name": "stdout"
        }
      ]
    },
    {
      "cell_type": "code",
      "metadata": {
        "id": "M3QT9LIoOHBd",
        "colab_type": "code",
        "colab": {}
      },
      "source": [
        "import os\n",
        "os.environ[\"JAVA_HOME\"] = \"/usr/lib/jvm/java-8-openjdk-amd64\"\n",
        "os.environ[\"SPARK_HOME\"] = \"/content/spark-2.4.3-bin-hadoop2.7\""
      ],
      "execution_count": 0,
      "outputs": []
    },
    {
      "cell_type": "code",
      "metadata": {
        "id": "JGIdgvXqPNab",
        "colab_type": "code",
        "colab": {}
      },
      "source": [
        "import findspark\n",
        "findspark.init()\n",
        "from pyspark.sql import SparkSession\n",
        "spark = SparkSession.builder.master(\"local[*]\").getOrCreate()"
      ],
      "execution_count": 0,
      "outputs": []
    },
    {
      "cell_type": "markdown",
      "metadata": {
        "id": "YRsMu9N9PgBk",
        "colab_type": "text"
      },
      "source": [
        "Baixando os arquivos"
      ]
    },
    {
      "cell_type": "code",
      "metadata": {
        "id": "1cTJ9n6IbsEK",
        "colab_type": "code",
        "colab": {}
      },
      "source": [
        "!wget -q ftp://ita.ee.lbl.gov/traces/NASA_access_log_Jul95.gz\n",
        "!wget -q ftp://ita.ee.lbl.gov/traces/NASA_access_log_Aug95.gz"
      ],
      "execution_count": 0,
      "outputs": []
    },
    {
      "cell_type": "markdown",
      "metadata": {
        "id": "IPq2M-UCgAnL",
        "colab_type": "text"
      },
      "source": [
        "Importando dos dados dos arquivos"
      ]
    },
    {
      "cell_type": "code",
      "metadata": {
        "id": "VLRFSt97PsZA",
        "colab_type": "code",
        "colab": {}
      },
      "source": [
        "sc = spark.sparkContext\n",
        "\n",
        "dadosJul = sc.textFile(\"NASA_access_log_Jul95.gz\")\n",
        "dadosAgo = sc.textFile(\"NASA_access_log_Aug95.gz\")\n"
      ],
      "execution_count": 0,
      "outputs": []
    },
    {
      "cell_type": "code",
      "metadata": {
        "id": "PjA_i7C6hysh",
        "colab_type": "code",
        "colab": {
          "base_uri": "https://localhost:8080/",
          "height": 187
        },
        "outputId": "b9a2f1fe-9205-40fd-f1cb-d772e85774ba"
      },
      "source": [
        "dadosJul.take(10)"
      ],
      "execution_count": 6,
      "outputs": [
        {
          "output_type": "execute_result",
          "data": {
            "text/plain": [
              "['199.72.81.55 - - [01/Jul/1995:00:00:01 -0400] \"GET /history/apollo/ HTTP/1.0\" 200 6245',\n",
              " 'unicomp6.unicomp.net - - [01/Jul/1995:00:00:06 -0400] \"GET /shuttle/countdown/ HTTP/1.0\" 200 3985',\n",
              " '199.120.110.21 - - [01/Jul/1995:00:00:09 -0400] \"GET /shuttle/missions/sts-73/mission-sts-73.html HTTP/1.0\" 200 4085',\n",
              " 'burger.letters.com - - [01/Jul/1995:00:00:11 -0400] \"GET /shuttle/countdown/liftoff.html HTTP/1.0\" 304 0',\n",
              " '199.120.110.21 - - [01/Jul/1995:00:00:11 -0400] \"GET /shuttle/missions/sts-73/sts-73-patch-small.gif HTTP/1.0\" 200 4179',\n",
              " 'burger.letters.com - - [01/Jul/1995:00:00:12 -0400] \"GET /images/NASA-logosmall.gif HTTP/1.0\" 304 0',\n",
              " 'burger.letters.com - - [01/Jul/1995:00:00:12 -0400] \"GET /shuttle/countdown/video/livevideo.gif HTTP/1.0\" 200 0',\n",
              " '205.212.115.106 - - [01/Jul/1995:00:00:12 -0400] \"GET /shuttle/countdown/countdown.html HTTP/1.0\" 200 3985',\n",
              " 'd104.aa.net - - [01/Jul/1995:00:00:13 -0400] \"GET /shuttle/countdown/ HTTP/1.0\" 200 3985',\n",
              " '129.94.144.152 - - [01/Jul/1995:00:00:13 -0400] \"GET / HTTP/1.0\" 200 7074']"
            ]
          },
          "metadata": {
            "tags": []
          },
          "execution_count": 6
        }
      ]
    },
    {
      "cell_type": "code",
      "metadata": {
        "id": "IFfd62rxlDoX",
        "colab_type": "code",
        "colab": {
          "base_uri": "https://localhost:8080/",
          "height": 187
        },
        "outputId": "320790da-06a2-469e-9c06-1463933808d2"
      },
      "source": [
        "dadosAgo.take(10)"
      ],
      "execution_count": 7,
      "outputs": [
        {
          "output_type": "execute_result",
          "data": {
            "text/plain": [
              "['in24.inetnebr.com - - [01/Aug/1995:00:00:01 -0400] \"GET /shuttle/missions/sts-68/news/sts-68-mcc-05.txt HTTP/1.0\" 200 1839',\n",
              " 'uplherc.upl.com - - [01/Aug/1995:00:00:07 -0400] \"GET / HTTP/1.0\" 304 0',\n",
              " 'uplherc.upl.com - - [01/Aug/1995:00:00:08 -0400] \"GET /images/ksclogo-medium.gif HTTP/1.0\" 304 0',\n",
              " 'uplherc.upl.com - - [01/Aug/1995:00:00:08 -0400] \"GET /images/MOSAIC-logosmall.gif HTTP/1.0\" 304 0',\n",
              " 'uplherc.upl.com - - [01/Aug/1995:00:00:08 -0400] \"GET /images/USA-logosmall.gif HTTP/1.0\" 304 0',\n",
              " 'ix-esc-ca2-07.ix.netcom.com - - [01/Aug/1995:00:00:09 -0400] \"GET /images/launch-logo.gif HTTP/1.0\" 200 1713',\n",
              " 'uplherc.upl.com - - [01/Aug/1995:00:00:10 -0400] \"GET /images/WORLD-logosmall.gif HTTP/1.0\" 304 0',\n",
              " 'slppp6.intermind.net - - [01/Aug/1995:00:00:10 -0400] \"GET /history/skylab/skylab.html HTTP/1.0\" 200 1687',\n",
              " 'piweba4y.prodigy.com - - [01/Aug/1995:00:00:10 -0400] \"GET /images/launchmedium.gif HTTP/1.0\" 200 11853',\n",
              " 'slppp6.intermind.net - - [01/Aug/1995:00:00:11 -0400] \"GET /history/skylab/skylab-small.gif HTTP/1.0\" 200 9202']"
            ]
          },
          "metadata": {
            "tags": []
          },
          "execution_count": 7
        }
      ]
    },
    {
      "cell_type": "code",
      "metadata": {
        "id": "HlYsxiInofqT",
        "colab_type": "code",
        "colab": {}
      },
      "source": [
        "dados = sc.union([dadosJul, dadosAgo])"
      ],
      "execution_count": 0,
      "outputs": []
    },
    {
      "cell_type": "code",
      "metadata": {
        "id": "VTG4KqJ1jRux",
        "colab_type": "code",
        "colab": {
          "base_uri": "https://localhost:8080/",
          "height": 34
        },
        "outputId": "70096344-84a0-4b72-d422-bb937ad79fc7"
      },
      "source": [
        "dados.count()"
      ],
      "execution_count": 9,
      "outputs": [
        {
          "output_type": "execute_result",
          "data": {
            "text/plain": [
              "3461613"
            ]
          },
          "metadata": {
            "tags": []
          },
          "execution_count": 9
        }
      ]
    },
    {
      "cell_type": "markdown",
      "metadata": {
        "id": "Ugvqp3ZsgQ0j",
        "colab_type": "text"
      },
      "source": [
        "Verifica se os arquivos contém linhas fora do padrão. Que não contém as colunas descritas no enunciado."
      ]
    },
    {
      "cell_type": "code",
      "metadata": {
        "id": "A_wkDyMcgOW8",
        "colab_type": "code",
        "colab": {}
      },
      "source": [
        "linhasForaPadrao = dados.map(lambda linha: linha.split(\" \")).filter(lambda lista: len(lista) < 5)"
      ],
      "execution_count": 0,
      "outputs": []
    },
    {
      "cell_type": "code",
      "metadata": {
        "id": "hQ4SGDRAiOej",
        "colab_type": "code",
        "colab": {
          "base_uri": "https://localhost:8080/",
          "height": 34
        },
        "outputId": "05b63c3b-5fef-465d-d799-70f7b9312cf0"
      },
      "source": [
        "linhasForaPadrao.take(10)"
      ],
      "execution_count": 11,
      "outputs": [
        {
          "output_type": "execute_result",
          "data": {
            "text/plain": [
              "[['alyssa.p']]"
            ]
          },
          "metadata": {
            "tags": []
          },
          "execution_count": 11
        }
      ]
    },
    {
      "cell_type": "markdown",
      "metadata": {
        "id": "odCjj44_jalr",
        "colab_type": "text"
      },
      "source": [
        "A linha mostrada acima, será retirada dos dados porque não está no padrão do restante do dataset."
      ]
    },
    {
      "cell_type": "code",
      "metadata": {
        "id": "rB_EKIZNjZhw",
        "colab_type": "code",
        "colab": {}
      },
      "source": [
        "dados = dados.filter(lambda linha: linha != \"alyssa.p\")"
      ],
      "execution_count": 0,
      "outputs": []
    },
    {
      "cell_type": "code",
      "metadata": {
        "id": "mvVEyJuGj9iH",
        "colab_type": "code",
        "colab": {
          "base_uri": "https://localhost:8080/",
          "height": 34
        },
        "outputId": "979d71e3-b2e5-4cbd-f2f9-2c28c8417286"
      },
      "source": [
        "dados.count()"
      ],
      "execution_count": 13,
      "outputs": [
        {
          "output_type": "execute_result",
          "data": {
            "text/plain": [
              "3461612"
            ]
          },
          "metadata": {
            "tags": []
          },
          "execution_count": 13
        }
      ]
    },
    {
      "cell_type": "markdown",
      "metadata": {
        "id": "LDTkF-5gluQq",
        "colab_type": "text"
      },
      "source": [
        "### Questões\n",
        "\n",
        "1. Número de hosts únicos.\n",
        "\n"
      ]
    },
    {
      "cell_type": "code",
      "metadata": {
        "id": "CF0fwToCmVo8",
        "colab_type": "code",
        "colab": {
          "base_uri": "https://localhost:8080/",
          "height": 34
        },
        "outputId": "d752e2c2-ed85-4217-bebe-786a838f3744"
      },
      "source": [
        "dados.map(lambda linha: linha.split(\" - -\")) \\\n",
        "  .map(lambda lista: lista[0]) \\\n",
        "  .distinct() \\\n",
        "  .count()\n"
      ],
      "execution_count": 14,
      "outputs": [
        {
          "output_type": "execute_result",
          "data": {
            "text/plain": [
              "137978"
            ]
          },
          "metadata": {
            "tags": []
          },
          "execution_count": 14
        }
      ]
    },
    {
      "cell_type": "markdown",
      "metadata": {
        "id": "olfnGkStmZAp",
        "colab_type": "text"
      },
      "source": [
        "2. O total de erros 404.\n"
      ]
    },
    {
      "cell_type": "code",
      "metadata": {
        "id": "7q2PGzU5DsCc",
        "colab_type": "code",
        "colab": {
          "base_uri": "https://localhost:8080/",
          "height": 34
        },
        "outputId": "554bd9b8-f91b-4333-c164-6214b36bbcb0"
      },
      "source": [
        "requisicoes404 = dados.map(lambda linha: linha.split(\" \")) \\\n",
        "  .filter(lambda lista: lista[-2] == \"404\")\n",
        "\n",
        "requisicoes404.count()"
      ],
      "execution_count": 15,
      "outputs": [
        {
          "output_type": "execute_result",
          "data": {
            "text/plain": [
              "20901"
            ]
          },
          "metadata": {
            "tags": []
          },
          "execution_count": 15
        }
      ]
    },
    {
      "cell_type": "markdown",
      "metadata": {
        "id": "7ickMLjJDs6P",
        "colab_type": "text"
      },
      "source": [
        "3. Os 5 URLs que mais causaram erro 404.\n"
      ]
    },
    {
      "cell_type": "code",
      "metadata": {
        "id": "Z2tSswP2mwvg",
        "colab_type": "code",
        "colab": {
          "base_uri": "https://localhost:8080/",
          "height": 102
        },
        "outputId": "24515fd2-0e04-48b2-e2d4-99b93047c717"
      },
      "source": [
        "host404 = requisicoes404.map(lambda lista: lista[0]) \\\n",
        "  .map(lambda host: (host, 1)) \\\n",
        "  .reduceByKey(lambda a, b: a + b) \\\n",
        "  .sortBy(lambda x: x[1],False)\n",
        "\n",
        "host404.take(5)"
      ],
      "execution_count": 16,
      "outputs": [
        {
          "output_type": "execute_result",
          "data": {
            "text/plain": [
              "[('hoohoo.ncsa.uiuc.edu', 251),\n",
              " ('piweba3y.prodigy.com', 157),\n",
              " ('jbiagioni.npt.nuwc.navy.mil', 132),\n",
              " ('piweba1y.prodigy.com', 114),\n",
              " ('www-d4.proxy.aol.com', 91)]"
            ]
          },
          "metadata": {
            "tags": []
          },
          "execution_count": 16
        }
      ]
    },
    {
      "cell_type": "markdown",
      "metadata": {
        "id": "EI5DJzMOmxC6",
        "colab_type": "text"
      },
      "source": [
        "4. Quantidade de erros 404 por dia.\n"
      ]
    },
    {
      "cell_type": "code",
      "metadata": {
        "id": "tjix4kNpr9yF",
        "colab_type": "code",
        "colab": {
          "base_uri": "https://localhost:8080/",
          "height": 1000
        },
        "outputId": "ff0d1949-e54b-471b-f1b6-dacc5437fc22"
      },
      "source": [
        "dia404 = requisicoes404.map(lambda lista: lista[3].replace('[', '')) \\\n",
        "  .map(lambda dia: (dia.split(\":\",1))[0]) \\\n",
        "  .map(lambda dia: (dia, 1)) \\\n",
        "  .reduceByKey(lambda a, b: a + b)\n",
        "\n",
        "dia404.sortBy(lambda x: x[0]) \\\n",
        "  .sortBy(lambda x: (x[0].split(\"/\"))[1],False) \\\n",
        "  .collect()"
      ],
      "execution_count": 17,
      "outputs": [
        {
          "output_type": "execute_result",
          "data": {
            "text/plain": [
              "[('01/Jul/1995', 316),\n",
              " ('02/Jul/1995', 291),\n",
              " ('03/Jul/1995', 474),\n",
              " ('04/Jul/1995', 359),\n",
              " ('05/Jul/1995', 497),\n",
              " ('06/Jul/1995', 640),\n",
              " ('07/Jul/1995', 570),\n",
              " ('08/Jul/1995', 302),\n",
              " ('09/Jul/1995', 348),\n",
              " ('10/Jul/1995', 398),\n",
              " ('11/Jul/1995', 471),\n",
              " ('12/Jul/1995', 471),\n",
              " ('13/Jul/1995', 532),\n",
              " ('14/Jul/1995', 413),\n",
              " ('15/Jul/1995', 254),\n",
              " ('16/Jul/1995', 257),\n",
              " ('17/Jul/1995', 406),\n",
              " ('18/Jul/1995', 465),\n",
              " ('19/Jul/1995', 639),\n",
              " ('20/Jul/1995', 428),\n",
              " ('21/Jul/1995', 334),\n",
              " ('22/Jul/1995', 192),\n",
              " ('23/Jul/1995', 233),\n",
              " ('24/Jul/1995', 328),\n",
              " ('25/Jul/1995', 461),\n",
              " ('26/Jul/1995', 336),\n",
              " ('27/Jul/1995', 336),\n",
              " ('28/Jul/1995', 94),\n",
              " ('01/Aug/1995', 243),\n",
              " ('03/Aug/1995', 304),\n",
              " ('04/Aug/1995', 346),\n",
              " ('05/Aug/1995', 236),\n",
              " ('06/Aug/1995', 373),\n",
              " ('07/Aug/1995', 537),\n",
              " ('08/Aug/1995', 391),\n",
              " ('09/Aug/1995', 279),\n",
              " ('10/Aug/1995', 315),\n",
              " ('11/Aug/1995', 263),\n",
              " ('12/Aug/1995', 196),\n",
              " ('13/Aug/1995', 216),\n",
              " ('14/Aug/1995', 287),\n",
              " ('15/Aug/1995', 327),\n",
              " ('16/Aug/1995', 259),\n",
              " ('17/Aug/1995', 271),\n",
              " ('18/Aug/1995', 256),\n",
              " ('19/Aug/1995', 209),\n",
              " ('20/Aug/1995', 312),\n",
              " ('21/Aug/1995', 305),\n",
              " ('22/Aug/1995', 288),\n",
              " ('23/Aug/1995', 345),\n",
              " ('24/Aug/1995', 420),\n",
              " ('25/Aug/1995', 415),\n",
              " ('26/Aug/1995', 366),\n",
              " ('27/Aug/1995', 370),\n",
              " ('28/Aug/1995', 410),\n",
              " ('29/Aug/1995', 420),\n",
              " ('30/Aug/1995', 571),\n",
              " ('31/Aug/1995', 526)]"
            ]
          },
          "metadata": {
            "tags": []
          },
          "execution_count": 17
        }
      ]
    },
    {
      "cell_type": "markdown",
      "metadata": {
        "id": "yUUp1RRLr-E5",
        "colab_type": "text"
      },
      "source": [
        "5. O total de bytes retornados."
      ]
    },
    {
      "cell_type": "code",
      "metadata": {
        "id": "9t56U13z8TZb",
        "colab_type": "code",
        "colab": {
          "base_uri": "https://localhost:8080/",
          "height": 34
        },
        "outputId": "acb8890e-3c8f-4cf3-b46c-f2a0304ca990"
      },
      "source": [
        "dados.map(lambda linha: linha.split(\" \")) \\\n",
        "  .filter(lambda lista: lista[-1].isnumeric()) \\\n",
        "  .map(lambda lista: int(lista[-1])) \\\n",
        "  .sum()"
      ],
      "execution_count": 18,
      "outputs": [
        {
          "output_type": "execute_result",
          "data": {
            "text/plain": [
              "65524314915"
            ]
          },
          "metadata": {
            "tags": []
          },
          "execution_count": 18
        }
      ]
    }
  ]
}